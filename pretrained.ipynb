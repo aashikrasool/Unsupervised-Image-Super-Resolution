{
 "nbformat": 4,
 "nbformat_minor": 0,
 "metadata": {
  "colab": {
   "private_outputs": true,
   "provenance": [],
   "authorship_tag": "ABX9TyM20iD2YLxSB1xb8hahkbxj",
   "include_colab_link": true
  },
  "kernelspec": {
   "name": "python3",
   "display_name": "Python 3"
  },
  "language_info": {
   "name": "python"
  }
 },
 "cells": [
  {
   "cell_type": "markdown",
   "metadata": {
    "id": "view-in-github",
    "colab_type": "text"
   },
   "source": [
    "<a href=\"https://colab.research.google.com/github/aashikrasool/Unsupervised-Image-Super-Resolution/blob/main/pretrained.ipynb\" target=\"_parent\"><img src=\"https://colab.research.google.com/assets/colab-badge.svg\" alt=\"Open In Colab\"/></a>"
   ]
  },
  {
   "cell_type": "code",
   "execution_count": 1,
   "metadata": {
    "id": "zefBGpywxrDw"
   },
   "outputs": [],
   "source": [
    "import cv2\n",
    "import os"
   ]
  },
  {
   "cell_type": "code",
   "source": [
    "#mount google drive\n",
    "from google.colab import drive\n",
    "drive.mount('/content/drive')"
   ],
   "metadata": {
    "id": "Vd3t7PRPxzUp"
   },
   "execution_count": 2,
   "outputs": [
    {
     "ename": "ModuleNotFoundError",
     "evalue": "No module named 'google.colab'",
     "output_type": "error",
     "traceback": [
      "\u001B[1;31m---------------------------------------------------------------------------\u001B[0m",
      "\u001B[1;31mModuleNotFoundError\u001B[0m                       Traceback (most recent call last)",
      "Cell \u001B[1;32mIn[2], line 2\u001B[0m\n\u001B[0;32m      1\u001B[0m \u001B[38;5;66;03m#mount google drive\u001B[39;00m\n\u001B[1;32m----> 2\u001B[0m \u001B[38;5;28;01mfrom\u001B[39;00m \u001B[38;5;21;01mgoogle\u001B[39;00m\u001B[38;5;21;01m.\u001B[39;00m\u001B[38;5;21;01mcolab\u001B[39;00m \u001B[38;5;28;01mimport\u001B[39;00m drive\n\u001B[0;32m      3\u001B[0m drive\u001B[38;5;241m.\u001B[39mmount(\u001B[38;5;124m'\u001B[39m\u001B[38;5;124m/content/drive\u001B[39m\u001B[38;5;124m'\u001B[39m)\n",
      "\u001B[1;31mModuleNotFoundError\u001B[0m: No module named 'google.colab'"
     ]
    }
   ]
  },
  {
   "cell_type": "code",
   "source": [
    "# assigning  data path \n",
    "dir_dataset = \"C:\\\\Users\\\\aashi\\\\Unsupervised-Image-Super-Resolution\\\\HR\"\n",
    "files_img = [os.path.join(dir_dataset, x) for x in os.listdir(dir_dataset)]\n",
    "     "
   ],
   "metadata": {
    "id": "-j6SSxK8x1gp"
   },
   "execution_count": 3,
   "outputs": []
  },
  {
   "cell_type": "code",
   "source": [
    "#to showing image from data set\n",
    "from google.colab.patches import cv2_imshow\n",
    "\n",
    "img = cv2.imread(files_img[8], cv2.IMREAD_UNCHANGED)\n",
    "cv2_imshow(img)"
   ],
   "metadata": {
    "id": "u2bpRYjGx674"
   },
   "execution_count": 4,
   "outputs": [
    {
     "ename": "ModuleNotFoundError",
     "evalue": "No module named 'google.colab'",
     "output_type": "error",
     "traceback": [
      "\u001B[1;31m---------------------------------------------------------------------------\u001B[0m",
      "\u001B[1;31mModuleNotFoundError\u001B[0m                       Traceback (most recent call last)",
      "Cell \u001B[1;32mIn[4], line 2\u001B[0m\n\u001B[0;32m      1\u001B[0m \u001B[38;5;66;03m#to showing image from data set\u001B[39;00m\n\u001B[1;32m----> 2\u001B[0m \u001B[38;5;28;01mfrom\u001B[39;00m \u001B[38;5;21;01mgoogle\u001B[39;00m\u001B[38;5;21;01m.\u001B[39;00m\u001B[38;5;21;01mcolab\u001B[39;00m\u001B[38;5;21;01m.\u001B[39;00m\u001B[38;5;21;01mpatches\u001B[39;00m \u001B[38;5;28;01mimport\u001B[39;00m cv2_imshow\n\u001B[0;32m      4\u001B[0m img \u001B[38;5;241m=\u001B[39m cv2\u001B[38;5;241m.\u001B[39mimread(files_img[\u001B[38;5;241m8\u001B[39m], cv2\u001B[38;5;241m.\u001B[39mIMREAD_UNCHANGED)\n\u001B[0;32m      5\u001B[0m cv2_imshow(img)\n",
      "\u001B[1;31mModuleNotFoundError\u001B[0m: No module named 'google.colab'"
     ]
    }
   ]
  },
  {
   "cell_type": "code",
   "source": [
    "import numpy as np\n",
    "def downsample(img_file, scale=0.3, plot= False):\n",
    "    img = cv2.imread(img_file, cv2.IMREAD_UNCHANGED)\n",
    "    img_small= cv2.resize(img,(0,0), fx=scale, fy=scale, interpolation=cv2.INTER_NEAREST)\n",
    "\n",
    "    if plot: \n",
    "        img_small_resize= cv2.resize(img_small, (img.shape[0], img.shape[1]))\n",
    "        cv2_imshow(np.hstack([img, img_small_resize]))\n",
    "        return img, img_small\n",
    "    \n",
    "    return img, img_small\n",
    "\n",
    "_, img_small = downsample(files_img[8], scale=0.4 , plot=True)"
   ],
   "metadata": {
    "id": "xbk3NdQDx_0I"
   },
   "execution_count": 5,
   "outputs": [
    {
     "ename": "NameError",
     "evalue": "name 'cv2_imshow' is not defined",
     "output_type": "error",
     "traceback": [
      "\u001B[1;31m---------------------------------------------------------------------------\u001B[0m",
      "\u001B[1;31mNameError\u001B[0m                                 Traceback (most recent call last)",
      "Cell \u001B[1;32mIn[5], line 13\u001B[0m\n\u001B[0;32m      9\u001B[0m         \u001B[38;5;28;01mreturn\u001B[39;00m img, img_small\n\u001B[0;32m     11\u001B[0m     \u001B[38;5;28;01mreturn\u001B[39;00m img, img_small\n\u001B[1;32m---> 13\u001B[0m _, img_small \u001B[38;5;241m=\u001B[39m \u001B[43mdownsample\u001B[49m\u001B[43m(\u001B[49m\u001B[43mfiles_img\u001B[49m\u001B[43m[\u001B[49m\u001B[38;5;241;43m8\u001B[39;49m\u001B[43m]\u001B[49m\u001B[43m,\u001B[49m\u001B[43m \u001B[49m\u001B[43mscale\u001B[49m\u001B[38;5;241;43m=\u001B[39;49m\u001B[38;5;241;43m0.4\u001B[39;49m\u001B[43m \u001B[49m\u001B[43m,\u001B[49m\u001B[43m \u001B[49m\u001B[43mplot\u001B[49m\u001B[38;5;241;43m=\u001B[39;49m\u001B[38;5;28;43;01mTrue\u001B[39;49;00m\u001B[43m)\u001B[49m\n",
      "Cell \u001B[1;32mIn[5], line 8\u001B[0m, in \u001B[0;36mdownsample\u001B[1;34m(img_file, scale, plot)\u001B[0m\n\u001B[0;32m      6\u001B[0m \u001B[38;5;28;01mif\u001B[39;00m plot: \n\u001B[0;32m      7\u001B[0m     img_small_resize\u001B[38;5;241m=\u001B[39m cv2\u001B[38;5;241m.\u001B[39mresize(img_small, (img\u001B[38;5;241m.\u001B[39mshape[\u001B[38;5;241m0\u001B[39m], img\u001B[38;5;241m.\u001B[39mshape[\u001B[38;5;241m1\u001B[39m]))\n\u001B[1;32m----> 8\u001B[0m     \u001B[43mcv2_imshow\u001B[49m(np\u001B[38;5;241m.\u001B[39mhstack([img, img_small_resize]))\n\u001B[0;32m      9\u001B[0m     \u001B[38;5;28;01mreturn\u001B[39;00m img, img_small\n\u001B[0;32m     11\u001B[0m \u001B[38;5;28;01mreturn\u001B[39;00m img, img_small\n",
      "\u001B[1;31mNameError\u001B[0m: name 'cv2_imshow' is not defined"
     ]
    }
   ]
  },
  {
   "cell_type": "code",
   "source": [
    "!rm -rf pretrained_models\n",
    "!wget https://github.com/Saafke/EDSR_Tensorflow/raw/master/models/EDSR_x4.pb -P pretrained_models -q\n",
    "!wget https://github.com/fannymonori/TF-ESPCN/raw/master/export/ESPCN_x4.pb -P pretrained_models -q\n",
    "!wget https://github.com/Saafke/FSRCNN_Tensorflow/raw/master/models/FSRCNN_x4.pb -P pretrained_models -q\n",
    "!wget https://github.com/fannymonori/TF-LapSRN/raw/master/export/LapSRN_x4.pb -P pretrained_models -q"
   ],
   "metadata": {
    "id": "rqcoYbxWyCuy"
   },
   "execution_count": null,
   "outputs": []
  },
  {
   "cell_type": "code",
   "source": [
    "dir_pretrained_models = 'pretrained_models'\n",
    "os.listdir(dir_pretrained_models)"
   ],
   "metadata": {
    "id": "LzISjtGayFuA"
   },
   "execution_count": null,
   "outputs": []
  },
  {
   "cell_type": "code",
   "source": [
    "# ''' Model upscale any image using opencv and external pretrained models. '''\n",
    "def get_upscaled_images(img_small, filemodel_filepath, modelname, scale):\n",
    "\n",
    "    model_pretrained = cv2.dnn_superres.DnnSuperResImpl_create()\n",
    "    print(\"Reading model file {}\".format(filemodel_filepath))\n",
    "  \n",
    "    # setting up the model initialization\n",
    "    model_pretrained.readModel(filemodel_filepath)\n",
    "    model_pretrained.setModel(modelname, scale)\n",
    "  \n",
    "    # prediction or upscaling\n",
    "    img_upscaled = model_pretrained.upsample(img_small)\n",
    "    return img_upscaled\n",
    "img, img_small = downsample(files_img[8], scale=0.25)\n",
    "print(img.shape, img_small.shape)\n",
    "img_upscaled1 = get_upscaled_images(img_small, \"pretrained_models/EDSR_x4.pb\", \"edsr\", 4)\n",
    "img_upscaled2 = get_upscaled_images(img_small, \"pretrained_models/ESPCN_x4.pb\", \"espcn\", 4)\n",
    "img_upscaled3 = get_upscaled_images(img_small, \"pretrained_models/FSRCNN_x4.pb\", \"fsrcnn\", 4)\n",
    "img_upscaled4 = get_upscaled_images(img_small, \"pretrained_models/LapSRN_x4.pb\", \"lapsrn\", 4)\n",
    "\n",
    "print(img_upscaled1.shape, img_upscaled2.shape, img_upscaled3.shape, img_upscaled4.shape)"
   ],
   "metadata": {
    "id": "Bvhrob8AyK0I"
   },
   "execution_count": null,
   "outputs": []
  },
  {
   "cell_type": "code",
   "source": [
    "import matplotlib.pyplot as plt\n",
    "from mpl_toolkits.axes_grid1 import ImageGrid\n",
    "\n",
    "def plot_images(images, titles):\n",
    "    fig = plt.figure(figsize=(20., 8.))\n",
    "    grid = ImageGrid(fig, 111, nrows_ncols=(1, len(images)), axes_pad=0.1)\n",
    "\n",
    "    i = 0\n",
    "    for ax, img in zip(grid, images):\n",
    "        ax.imshow(cv2.cvtColor(img, cv2.COLOR_BGR2RGB))\n",
    "        ax.set_title(titles[i])\n",
    "        i += 1\n",
    "    plt.show()\n",
    "\n",
    "img_small_resize = cv2.resize(img_small, (img.shape[0], img.shape[1]))\n",
    "\n",
    "titles = [\"original\", \"downsampled\", \"edsr\", \"espcn\", \"fsrcnn\", \"lapsrn\"]\n",
    "images = [img, img_small_resize, img_upscaled1, img_upscaled2, img_upscaled3, img_upscaled4]\n",
    "plot_images(images, titles)"
   ],
   "metadata": {
    "id": "lH_lh0H5yOKw"
   },
   "execution_count": null,
   "outputs": []
  },
  {
   "cell_type": "code",
   "source": [],
   "metadata": {
    "id": "0oHivIeGyTe4"
   },
   "execution_count": null,
   "outputs": []
  }
 ]
}
