{
  "nbformat": 4,
  "nbformat_minor": 0,
  "metadata": {
    "colab": {
      "private_outputs": true,
      "provenance": [],
      "authorship_tag": "ABX9TyM20iD2YLxSB1xb8hahkbxj",
      "include_colab_link": true
    },
    "kernelspec": {
      "name": "python3",
      "display_name": "Python 3"
    },
    "language_info": {
      "name": "python"
    }
  },
  "cells": [
    {
      "cell_type": "markdown",
      "metadata": {
        "id": "view-in-github",
        "colab_type": "text"
      },
      "source": [
        "<a href=\"https://colab.research.google.com/github/aashikrasool/Unsupervised-Image-Super-Resolution/blob/main/pretrained.ipynb\" target=\"_parent\"><img src=\"https://colab.research.google.com/assets/colab-badge.svg\" alt=\"Open In Colab\"/></a>"
      ]
    },
    {
      "cell_type": "code",
      "execution_count": null,
      "metadata": {
        "id": "zefBGpywxrDw"
      },
      "outputs": [],
      "source": [
        "import cv2\n",
        "import os"
      ]
    },
    {
      "cell_type": "code",
      "source": [
        "#mount google drive\n",
        "from google.colab import drive\n",
        "drive.mount('/content/drive')"
      ],
      "metadata": {
        "id": "Vd3t7PRPxzUp"
      },
      "execution_count": null,
      "outputs": []
    },
    {
      "cell_type": "code",
      "source": [
        "# assigning  data path \n",
        "dir_dataset = \"/content/drive/MyDrive/Dataset/SR/HR\"\n",
        "files_img = [os.path.join(dir_dataset, x) for x in os.listdir(dir_dataset)]\n",
        "     "
      ],
      "metadata": {
        "id": "-j6SSxK8x1gp"
      },
      "execution_count": null,
      "outputs": []
    },
    {
      "cell_type": "code",
      "source": [
        "#to showing image from data set\n",
        "from google.colab.patches import cv2_imshow\n",
        "\n",
        "img = cv2.imread(files_img[8], cv2.IMREAD_UNCHANGED)\n",
        "cv2_imshow(img)"
      ],
      "metadata": {
        "id": "u2bpRYjGx674"
      },
      "execution_count": null,
      "outputs": []
    },
    {
      "cell_type": "code",
      "source": [
        "import numpy as np\n",
        "def downsample(img_file, scale=0.3, plot= False):\n",
        "    img = cv2.imread(img_file, cv2.IMREAD_UNCHANGED)\n",
        "    img_small= cv2.resize(img,(0,0), fx=scale, fy=scale, interpolation=cv2.INTER_NEAREST)\n",
        "\n",
        "    if plot: \n",
        "        img_small_resize= cv2.resize(img_small, (img.shape[0], img.shape[1]))\n",
        "        cv2_imshow(np.hstack([img, img_small_resize]))\n",
        "        return img, img_small\n",
        "    \n",
        "    return img, img_small\n",
        "\n",
        "_, img_small = downsample(files_img[8], scale=0.4 , plot=True)"
      ],
      "metadata": {
        "id": "xbk3NdQDx_0I"
      },
      "execution_count": null,
      "outputs": []
    },
    {
      "cell_type": "code",
      "source": [
        "!rm -rf pretrained_models\n",
        "!wget https://github.com/Saafke/EDSR_Tensorflow/raw/master/models/EDSR_x4.pb -P pretrained_models -q\n",
        "!wget https://github.com/fannymonori/TF-ESPCN/raw/master/export/ESPCN_x4.pb -P pretrained_models -q\n",
        "!wget https://github.com/Saafke/FSRCNN_Tensorflow/raw/master/models/FSRCNN_x4.pb -P pretrained_models -q\n",
        "!wget https://github.com/fannymonori/TF-LapSRN/raw/master/export/LapSRN_x4.pb -P pretrained_models -q"
      ],
      "metadata": {
        "id": "rqcoYbxWyCuy"
      },
      "execution_count": null,
      "outputs": []
    },
    {
      "cell_type": "code",
      "source": [
        "dir_pretrained_models = 'pretrained_models'\n",
        "os.listdir(dir_pretrained_models)"
      ],
      "metadata": {
        "id": "LzISjtGayFuA"
      },
      "execution_count": null,
      "outputs": []
    },
    {
      "cell_type": "code",
      "source": [
        "# ''' Model upscale any image using opencv and external pretrained models. '''\n",
        "def get_upscaled_images(img_small, filemodel_filepath, modelname, scale):\n",
        "\n",
        "    model_pretrained = cv2.dnn_superres.DnnSuperResImpl_create()\n",
        "    print(\"Reading model file {}\".format(filemodel_filepath))\n",
        "  \n",
        "    # setting up the model initialization\n",
        "    model_pretrained.readModel(filemodel_filepath)\n",
        "    model_pretrained.setModel(modelname, scale)\n",
        "  \n",
        "    # prediction or upscaling\n",
        "    img_upscaled = model_pretrained.upsample(img_small)\n",
        "    return img_upscaled\n",
        "img, img_small = downsample(files_img[8], scale=0.25)\n",
        "print(img.shape, img_small.shape)\n",
        "img_upscaled1 = get_upscaled_images(img_small, \"pretrained_models/EDSR_x4.pb\", \"edsr\", 4)\n",
        "img_upscaled2 = get_upscaled_images(img_small, \"pretrained_models/ESPCN_x4.pb\", \"espcn\", 4)\n",
        "img_upscaled3 = get_upscaled_images(img_small, \"pretrained_models/FSRCNN_x4.pb\", \"fsrcnn\", 4)\n",
        "img_upscaled4 = get_upscaled_images(img_small, \"pretrained_models/LapSRN_x4.pb\", \"lapsrn\", 4)\n",
        "\n",
        "print(img_upscaled1.shape, img_upscaled2.shape, img_upscaled3.shape, img_upscaled4.shape)"
      ],
      "metadata": {
        "id": "Bvhrob8AyK0I"
      },
      "execution_count": null,
      "outputs": []
    },
    {
      "cell_type": "code",
      "source": [
        "import matplotlib.pyplot as plt\n",
        "from mpl_toolkits.axes_grid1 import ImageGrid\n",
        "\n",
        "def plot_images(images, titles):\n",
        "    fig = plt.figure(figsize=(20., 8.))\n",
        "    grid = ImageGrid(fig, 111, nrows_ncols=(1, len(images)), axes_pad=0.1)\n",
        "\n",
        "    i = 0\n",
        "    for ax, img in zip(grid, images):\n",
        "        ax.imshow(cv2.cvtColor(img, cv2.COLOR_BGR2RGB))\n",
        "        ax.set_title(titles[i])\n",
        "        i += 1\n",
        "    plt.show()\n",
        "\n",
        "img_small_resize = cv2.resize(img_small, (img.shape[0], img.shape[1]))\n",
        "\n",
        "titles = [\"original\", \"downsampled\", \"edsr\", \"espcn\", \"fsrcnn\", \"lapsrn\"]\n",
        "images = [img, img_small_resize, img_upscaled1, img_upscaled2, img_upscaled3, img_upscaled4]\n",
        "plot_images(images, titles)"
      ],
      "metadata": {
        "id": "lH_lh0H5yOKw"
      },
      "execution_count": null,
      "outputs": []
    },
    {
      "cell_type": "code",
      "source": [],
      "metadata": {
        "id": "0oHivIeGyTe4"
      },
      "execution_count": null,
      "outputs": []
    }
  ]
}